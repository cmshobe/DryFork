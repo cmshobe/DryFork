


import pandas as pd
import matplotlib.pyplot as plt
import numpy as np





beds = pd.read_csv('SS_beddingthickness_simplecopy.csv', delimiter = ',', encoding = 'UTF-8')
beds = beds[:25] #cut out trailing NaNs


beds = beds[:25]


beds_fine_mean = beds.mean()[0]
beds_coarse_mean = beds.mean()[1]
beds_carb_mean = beds.mean()[2]


print(beds_fine_mean)
print(beds_coarse_mean)
print(beds_carb_mean)





fractures = pd.read_csv('frac_spacing_simplecopy.csv', delimiter = ',', encoding = 'UTF-8')*100 #convert m to cm


fractures.std()


fractures_fine_mean = fractures.mean()[0]
fractures_coarse_mean = fractures.mean()[1]


fractures








#FIRST VERSION: carbonate fractures are a little different because Nick only provided av erages.....

#carb_1_transect_lengths = np.repeat(20, 11)
#carb_1_frac_counts = np.repeat(11, 11)
#carb_1_frac_spacings = carb_1_transect_lengths / carb_1_frac_counts


#carb_2_transect_lengths = np.concatenate((np.repeat(23, 7), np.repeat(50, 15)))
#carb_2_frac_counts = np.concatenate((np.repeat(7, 7), np.repeat(15, 15)))
#carb_2_frac_spacings = carb_2_transect_lengths / carb_2_frac_counts

#fractures_carb_mean_1 = np.average(carb_1_frac_spacings) * 100 #convert m to cm
#fractures_carb_mean_2 = np.average(carb_2_frac_spacings) * 100 #convert m to cm

#SECOND VERSION: Nick reports two sets of carb fractures from GIS
fractures_carb_set1 = fractures[['Carb', 'Carb-transect']][fractures['Carb-transect'] == 100]
fractures_carb_set1_mean = fractures_carb_set1.mean()[0]

fractures_carb_set2 = fractures[['Carb', 'Carb-transect']][fractures['Carb-transect'] == 200]
fractures_carb_set2_mean = fractures_carb_set2.mean()[0]


fractures_carb_set1

















fig, ax = plt.subplots(figsize = (6, 4.7))
size = 300
ax.scatter(beds_fine_mean, fractures_fine_mean, s = size, marker = 's', facecolor = 'moccasin', edgecolor = 'k', zorder = 2, label = 'Fine sandstone')
ax.scatter(beds_coarse_mean, fractures_coarse_mean, s = size, marker = 'o', facecolor = 'moccasin', edgecolor = 'k', zorder = 2, label = 'Coarse sandstone')
ax.scatter(beds_carb_mean, fractures_carb_set1_mean, s = size, marker = '^', facecolor = 'lightblue', edgecolor = 'k', zorder = 2, label = 'Carbonate T (thalweg)')
ax.scatter(beds_carb_mean, fractures_carb_set2_mean, s = size, marker = '^', facecolor = 'lightblue', edgecolor = 'k', zorder = 4, label = 'Carbonate B (bank)')
#bed thickness error bars
#beds_fine_lower_bound = np.array([beds_fine_mean - beds_fine_min])
#beds_fine_upper_bound = np.array([beds_fine_max - beds_fine_mean])
#beds_fine_bounds = np.array([beds_fine_lower_bound, beds_fine_upper_bound])
beds_fine_stdev = beds.std()[0]
fractures_fine_stdev = fractures.std()[0]
ax.errorbar(beds_fine_mean, fractures_fine_mean, xerr = beds_fine_stdev, yerr = fractures_fine_stdev, color = 'k', zorder = 1, capsize = 4)

beds_coarse_stdev = beds.std()[1]
fractures_coarse_stdev = fractures.std()[1]
ax.errorbar(beds_coarse_mean, fractures_coarse_mean, xerr = beds_coarse_stdev, yerr = fractures_coarse_stdev, color = 'k', zorder = 1, capsize = 4)


beds_carb_stdev = beds.std()[2]
fractures_carb_1_stdev = fractures_carb_set1.std()[0]
fractures_carb_2_stdev = fractures_carb_set2.std()[0]
#fractures_carb_lower_bound = np.array([fractures_carb_mean - beds_fine_min])
#fractures_carb_upper_bound = np.array([beds_fine_max - beds_fine_mean])
#fractures_carb_bounds = np.array([beds_fine_lower_bound, beds_fine_upper_bound])
eb1 = ax.errorbar(beds_carb_mean, fractures_carb_set1_mean, xerr = beds_carb_stdev, yerr = fractures_carb_1_stdev, color = 'k', zorder = 1, capsize = 4)
eb2 = ax.errorbar(beds_carb_mean, fractures_carb_set2_mean, xerr = beds_carb_stdev, yerr = fractures_carb_2_stdev, color = 'k', zorder = 3, capsize = 4, ecolor = 'gray')
eb2[-1][0].set_linestyle(':')
eb2[-1][1].set_linestyle(':')

ax.set_xlabel('Bed thickness [cm]', fontsize = 16)
ax.set_ylabel('Fracture spacing [cm]', fontsize = 16)

ax.set_xlim(-5, 100)
ax.set_ylim(-10, 500)
ax.legend(loc = 'lower right', labelspacing = 1, edgecolor = 'k', borderpad = 1)

ax.text(39.5, 148, 'T', fontsize = 14)
ax.text(39.5, 285, 'B', fontsize = 14)

plt.tight_layout()
fig.savefig('beds_fractures_v2.pdf', dpi=1000, bbox_inches = 'tight')
fig.savefig('beds_fractures_v2.png', dpi=1000, bbox_inches = 'tight')


fractures_carb_set1_mean


fractures_carb_set2_mean


fractures_fine_mean


fractures_coarse_mean


from scipy.stats import kruskal, mannwhitneyu

kw = kruskal(beds['Fine'], beds['Coarse'], beds['Carb'])


beds_fine = beds['Fine'][0:17]


beds_fine


beds_coarse = beds['Coarse'][0:18]


beds_coarse


beds_carb = beds['Carb']





kw = kruskal(beds_fine, beds_coarse, beds_carb)

print(kw)

import scikit_posthocs
print(scikit_posthocs.posthoc_dunn([beds_fine, beds_coarse, beds_carb], p_adjust = 'bonferroni'))



beds_all_ss = pd.concat([beds['Fine'][0:17], 
                         beds['Coarse'][0:18]])


beds_all_ss


mwu = mannwhitneyu(beds_all_ss, beds_carb)
mwu





fractures_carb_set1_stats = fractures_carb_set1['Carb']
fractures_carb_set2_stats = fractures_carb_set2['Carb']

fractures_fine_stats = fractures['Fine']
fractures_coarse_stats = fractures['Coarse'][0:26]


fracs_all_ss = pd.concat([fractures_fine_stats, fractures_coarse_stats])
fracs_all_carb = pd.concat([fractures_carb_set1_stats, fractures_carb_set2_stats])
mwu2 = mannwhitneyu(fracs_all_ss, fracs_all_carb)
mwu2





fracs_all_ss


mwu


kw2 = kruskal(fractures_fine_stats, fractures_coarse_stats, fractures_carb_set1_stats, fractures_carb_set2_stats)


kw2


print(scikit_posthocs.posthoc_dunn([fractures_fine_stats, fractures_coarse_stats, fractures_carb_set1_stats, fractures_carb_set2_stats], p_adjust = 'bonferroni'))





fractures_carb_all_stats = pd.concat([fractures_carb_set1_stats, fractures_carb_set2_stats])


fractures_carb_all_stats


kw2 = kruskal(fractures_fine_stats, fractures_coarse_stats, fractures_carb_all_stats)
kw2


print(scikit_posthocs.posthoc_dunn([fractures_fine_stats, fractures_coarse_stats, fractures_carb_all_stats], p_adjust = 'bonferroni'))



