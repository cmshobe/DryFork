{
 "cells": [
  {
   "cell_type": "markdown",
   "id": "5f5940f8-11ae-49b1-8c48-bf0bc801dc56",
   "metadata": {},
   "source": [
    "Bed thickness and fracture density figure"
   ]
  },
  {
   "cell_type": "code",
   "execution_count": 2,
   "id": "d432cd32-dcee-4c5b-87bb-14e00fb356d2",
   "metadata": {},
   "outputs": [],
   "source": [
    "import pandas as pd\n",
    "import matplotlib.pyplot as plt\n",
    "import numpy as np"
   ]
  },
  {
   "cell_type": "markdown",
   "id": "14b772ff-090b-4729-ac1d-d32b9143d116",
   "metadata": {},
   "source": [
    "Bed thickness first"
   ]
  },
  {
   "cell_type": "code",
   "execution_count": 4,
   "id": "649ad02a-61de-42c2-a8b8-d1006f495d48",
   "metadata": {},
   "outputs": [],
   "source": [
    "beds = pd.read_csv('SS_beddingthickness_simplecopy.csv', delimiter = ',', encoding = 'UTF-8')\n",
    "beds = beds[:25] #cut out trailing NaNs"
   ]
  },
  {
   "cell_type": "code",
   "execution_count": 5,
   "id": "f6a83f0c-1476-400c-b2d6-3598be766a24",
   "metadata": {},
   "outputs": [],
   "source": [
    "beds = beds[:25]"
   ]
  },
  {
   "cell_type": "code",
   "execution_count": 6,
   "id": "79d5643a-cb90-45b7-9477-5b079b227c00",
   "metadata": {},
   "outputs": [
    {
     "name": "stderr",
     "output_type": "stream",
     "text": [
      "/var/folders/f0/zv8p7y8d5kq6d7npbldbdh6w0000gn/T/ipykernel_32734/3219892920.py:1: FutureWarning: Series.__getitem__ treating keys as positions is deprecated. In a future version, integer keys will always be treated as labels (consistent with DataFrame behavior). To access a value by position, use `ser.iloc[pos]`\n",
      "  beds_fine_mean = beds.mean()[0]\n",
      "/var/folders/f0/zv8p7y8d5kq6d7npbldbdh6w0000gn/T/ipykernel_32734/3219892920.py:2: FutureWarning: Series.__getitem__ treating keys as positions is deprecated. In a future version, integer keys will always be treated as labels (consistent with DataFrame behavior). To access a value by position, use `ser.iloc[pos]`\n",
      "  beds_coarse_mean = beds.mean()[1]\n",
      "/var/folders/f0/zv8p7y8d5kq6d7npbldbdh6w0000gn/T/ipykernel_32734/3219892920.py:3: FutureWarning: Series.__getitem__ treating keys as positions is deprecated. In a future version, integer keys will always be treated as labels (consistent with DataFrame behavior). To access a value by position, use `ser.iloc[pos]`\n",
      "  beds_carb_mean = beds.mean()[2]\n"
     ]
    }
   ],
   "source": [
    "beds_fine_mean = beds.mean()[0]\n",
    "beds_coarse_mean = beds.mean()[1]\n",
    "beds_carb_mean = beds.mean()[2]"
   ]
  },
  {
   "cell_type": "code",
   "execution_count": 7,
   "id": "65eefaee-eda5-4caf-8e13-18cbc4626a5e",
   "metadata": {},
   "outputs": [
    {
     "name": "stdout",
     "output_type": "stream",
     "text": [
      "9.529411764705882\n",
      "3.388888888888889\n",
      "45.44\n"
     ]
    }
   ],
   "source": [
    "print(beds_fine_mean)\n",
    "print(beds_coarse_mean)\n",
    "print(beds_carb_mean)"
   ]
  },
  {
   "cell_type": "markdown",
   "id": "7435c8df-ba7e-40bc-9270-a13934f2edbd",
   "metadata": {},
   "source": [
    "Now fracture spacing"
   ]
  },
  {
   "cell_type": "code",
   "execution_count": 9,
   "id": "e75177e2-cced-492e-9bc7-e2ee591acc29",
   "metadata": {},
   "outputs": [],
   "source": [
    "fractures = pd.read_csv('frac_spacing_simplecopy.csv', delimiter = ',', encoding = 'UTF-8')*100 #convert m to cm"
   ]
  },
  {
   "cell_type": "code",
   "execution_count": 10,
   "id": "5c75a42e-797a-44f1-b7e5-49290a6cec21",
   "metadata": {},
   "outputs": [
    {
     "data": {
      "text/plain": [
       "Fine              56.208436\n",
       "Coarse            49.231713\n",
       "Carb             146.060784\n",
       "Carb-transect     50.000000\n",
       "dtype: float64"
      ]
     },
     "execution_count": 10,
     "metadata": {},
     "output_type": "execute_result"
    }
   ],
   "source": [
    "fractures.std()"
   ]
  },
  {
   "cell_type": "code",
   "execution_count": 11,
   "id": "0e129c7e-5166-4c01-9be1-bbf6f21a07b4",
   "metadata": {},
   "outputs": [
    {
     "name": "stderr",
     "output_type": "stream",
     "text": [
      "/var/folders/f0/zv8p7y8d5kq6d7npbldbdh6w0000gn/T/ipykernel_32734/356454645.py:1: FutureWarning: Series.__getitem__ treating keys as positions is deprecated. In a future version, integer keys will always be treated as labels (consistent with DataFrame behavior). To access a value by position, use `ser.iloc[pos]`\n",
      "  fractures_fine_mean = fractures.mean()[0]\n",
      "/var/folders/f0/zv8p7y8d5kq6d7npbldbdh6w0000gn/T/ipykernel_32734/356454645.py:2: FutureWarning: Series.__getitem__ treating keys as positions is deprecated. In a future version, integer keys will always be treated as labels (consistent with DataFrame behavior). To access a value by position, use `ser.iloc[pos]`\n",
      "  fractures_coarse_mean = fractures.mean()[1]\n"
     ]
    }
   ],
   "source": [
    "fractures_fine_mean = fractures.mean()[0]\n",
    "fractures_coarse_mean = fractures.mean()[1]"
   ]
  },
  {
   "cell_type": "code",
   "execution_count": 12,
   "id": "b926f541-f2c7-471f-8ab5-9747557ee21d",
   "metadata": {},
   "outputs": [
    {
     "data": {
      "text/html": [
       "<div>\n",
       "<style scoped>\n",
       "    .dataframe tbody tr th:only-of-type {\n",
       "        vertical-align: middle;\n",
       "    }\n",
       "\n",
       "    .dataframe tbody tr th {\n",
       "        vertical-align: top;\n",
       "    }\n",
       "\n",
       "    .dataframe thead th {\n",
       "        text-align: right;\n",
       "    }\n",
       "</style>\n",
       "<table border=\"1\" class=\"dataframe\">\n",
       "  <thead>\n",
       "    <tr style=\"text-align: right;\">\n",
       "      <th></th>\n",
       "      <th>Fine</th>\n",
       "      <th>Coarse</th>\n",
       "      <th>Carb</th>\n",
       "      <th>Carb-transect</th>\n",
       "    </tr>\n",
       "  </thead>\n",
       "  <tbody>\n",
       "    <tr>\n",
       "      <th>0</th>\n",
       "      <td>102.6</td>\n",
       "      <td>5.0</td>\n",
       "      <td>241.737618</td>\n",
       "      <td>100.0</td>\n",
       "    </tr>\n",
       "    <tr>\n",
       "      <th>1</th>\n",
       "      <td>46.8</td>\n",
       "      <td>3.0</td>\n",
       "      <td>272.007768</td>\n",
       "      <td>100.0</td>\n",
       "    </tr>\n",
       "    <tr>\n",
       "      <th>2</th>\n",
       "      <td>203.1</td>\n",
       "      <td>3.0</td>\n",
       "      <td>61.800935</td>\n",
       "      <td>100.0</td>\n",
       "    </tr>\n",
       "    <tr>\n",
       "      <th>3</th>\n",
       "      <td>213.8</td>\n",
       "      <td>12.0</td>\n",
       "      <td>277.780261</td>\n",
       "      <td>100.0</td>\n",
       "    </tr>\n",
       "    <tr>\n",
       "      <th>4</th>\n",
       "      <td>67.6</td>\n",
       "      <td>6.0</td>\n",
       "      <td>109.204209</td>\n",
       "      <td>100.0</td>\n",
       "    </tr>\n",
       "    <tr>\n",
       "      <th>5</th>\n",
       "      <td>94.3</td>\n",
       "      <td>6.0</td>\n",
       "      <td>274.003550</td>\n",
       "      <td>100.0</td>\n",
       "    </tr>\n",
       "    <tr>\n",
       "      <th>6</th>\n",
       "      <td>93.9</td>\n",
       "      <td>43.0</td>\n",
       "      <td>166.236957</td>\n",
       "      <td>100.0</td>\n",
       "    </tr>\n",
       "    <tr>\n",
       "      <th>7</th>\n",
       "      <td>77.2</td>\n",
       "      <td>64.0</td>\n",
       "      <td>114.598337</td>\n",
       "      <td>100.0</td>\n",
       "    </tr>\n",
       "    <tr>\n",
       "      <th>8</th>\n",
       "      <td>64.4</td>\n",
       "      <td>45.0</td>\n",
       "      <td>207.104250</td>\n",
       "      <td>100.0</td>\n",
       "    </tr>\n",
       "    <tr>\n",
       "      <th>9</th>\n",
       "      <td>47.0</td>\n",
       "      <td>80.0</td>\n",
       "      <td>53.245563</td>\n",
       "      <td>100.0</td>\n",
       "    </tr>\n",
       "    <tr>\n",
       "      <th>10</th>\n",
       "      <td>95.2</td>\n",
       "      <td>30.0</td>\n",
       "      <td>107.676165</td>\n",
       "      <td>200.0</td>\n",
       "    </tr>\n",
       "    <tr>\n",
       "      <th>11</th>\n",
       "      <td>48.7</td>\n",
       "      <td>45.0</td>\n",
       "      <td>445.257612</td>\n",
       "      <td>200.0</td>\n",
       "    </tr>\n",
       "    <tr>\n",
       "      <th>12</th>\n",
       "      <td>92.2</td>\n",
       "      <td>30.0</td>\n",
       "      <td>376.530621</td>\n",
       "      <td>200.0</td>\n",
       "    </tr>\n",
       "    <tr>\n",
       "      <th>13</th>\n",
       "      <td>81.0</td>\n",
       "      <td>15.0</td>\n",
       "      <td>707.387180</td>\n",
       "      <td>200.0</td>\n",
       "    </tr>\n",
       "    <tr>\n",
       "      <th>14</th>\n",
       "      <td>84.3</td>\n",
       "      <td>120.0</td>\n",
       "      <td>295.308612</td>\n",
       "      <td>200.0</td>\n",
       "    </tr>\n",
       "    <tr>\n",
       "      <th>15</th>\n",
       "      <td>157.4</td>\n",
       "      <td>100.0</td>\n",
       "      <td>419.609655</td>\n",
       "      <td>200.0</td>\n",
       "    </tr>\n",
       "    <tr>\n",
       "      <th>16</th>\n",
       "      <td>178.1</td>\n",
       "      <td>3.0</td>\n",
       "      <td>396.139622</td>\n",
       "      <td>200.0</td>\n",
       "    </tr>\n",
       "    <tr>\n",
       "      <th>17</th>\n",
       "      <td>237.4</td>\n",
       "      <td>6.0</td>\n",
       "      <td>349.318953</td>\n",
       "      <td>200.0</td>\n",
       "    </tr>\n",
       "    <tr>\n",
       "      <th>18</th>\n",
       "      <td>107.6</td>\n",
       "      <td>3.0</td>\n",
       "      <td>263.744441</td>\n",
       "      <td>200.0</td>\n",
       "    </tr>\n",
       "    <tr>\n",
       "      <th>19</th>\n",
       "      <td>142.1</td>\n",
       "      <td>200.0</td>\n",
       "      <td>120.790854</td>\n",
       "      <td>200.0</td>\n",
       "    </tr>\n",
       "    <tr>\n",
       "      <th>20</th>\n",
       "      <td>136.7</td>\n",
       "      <td>100.0</td>\n",
       "      <td>212.406574</td>\n",
       "      <td>200.0</td>\n",
       "    </tr>\n",
       "    <tr>\n",
       "      <th>21</th>\n",
       "      <td>25.7</td>\n",
       "      <td>120.0</td>\n",
       "      <td>112.102858</td>\n",
       "      <td>200.0</td>\n",
       "    </tr>\n",
       "    <tr>\n",
       "      <th>22</th>\n",
       "      <td>28.6</td>\n",
       "      <td>20.0</td>\n",
       "      <td>326.097474</td>\n",
       "      <td>200.0</td>\n",
       "    </tr>\n",
       "    <tr>\n",
       "      <th>23</th>\n",
       "      <td>75.4</td>\n",
       "      <td>25.0</td>\n",
       "      <td>276.450954</td>\n",
       "      <td>200.0</td>\n",
       "    </tr>\n",
       "    <tr>\n",
       "      <th>24</th>\n",
       "      <td>76.0</td>\n",
       "      <td>42.0</td>\n",
       "      <td>289.651475</td>\n",
       "      <td>200.0</td>\n",
       "    </tr>\n",
       "    <tr>\n",
       "      <th>25</th>\n",
       "      <td>24.3</td>\n",
       "      <td>13.0</td>\n",
       "      <td>NaN</td>\n",
       "      <td>NaN</td>\n",
       "    </tr>\n",
       "    <tr>\n",
       "      <th>26</th>\n",
       "      <td>40.2</td>\n",
       "      <td>NaN</td>\n",
       "      <td>NaN</td>\n",
       "      <td>NaN</td>\n",
       "    </tr>\n",
       "    <tr>\n",
       "      <th>27</th>\n",
       "      <td>51.8</td>\n",
       "      <td>NaN</td>\n",
       "      <td>NaN</td>\n",
       "      <td>NaN</td>\n",
       "    </tr>\n",
       "    <tr>\n",
       "      <th>28</th>\n",
       "      <td>66.8</td>\n",
       "      <td>NaN</td>\n",
       "      <td>NaN</td>\n",
       "      <td>NaN</td>\n",
       "    </tr>\n",
       "    <tr>\n",
       "      <th>29</th>\n",
       "      <td>98.0</td>\n",
       "      <td>NaN</td>\n",
       "      <td>NaN</td>\n",
       "      <td>NaN</td>\n",
       "    </tr>\n",
       "    <tr>\n",
       "      <th>30</th>\n",
       "      <td>33.3</td>\n",
       "      <td>NaN</td>\n",
       "      <td>NaN</td>\n",
       "      <td>NaN</td>\n",
       "    </tr>\n",
       "    <tr>\n",
       "      <th>31</th>\n",
       "      <td>93.0</td>\n",
       "      <td>NaN</td>\n",
       "      <td>NaN</td>\n",
       "      <td>NaN</td>\n",
       "    </tr>\n",
       "    <tr>\n",
       "      <th>32</th>\n",
       "      <td>80.8</td>\n",
       "      <td>NaN</td>\n",
       "      <td>NaN</td>\n",
       "      <td>NaN</td>\n",
       "    </tr>\n",
       "    <tr>\n",
       "      <th>33</th>\n",
       "      <td>102.0</td>\n",
       "      <td>NaN</td>\n",
       "      <td>NaN</td>\n",
       "      <td>NaN</td>\n",
       "    </tr>\n",
       "    <tr>\n",
       "      <th>34</th>\n",
       "      <td>118.0</td>\n",
       "      <td>NaN</td>\n",
       "      <td>NaN</td>\n",
       "      <td>NaN</td>\n",
       "    </tr>\n",
       "    <tr>\n",
       "      <th>35</th>\n",
       "      <td>45.5</td>\n",
       "      <td>NaN</td>\n",
       "      <td>NaN</td>\n",
       "      <td>NaN</td>\n",
       "    </tr>\n",
       "    <tr>\n",
       "      <th>36</th>\n",
       "      <td>99.8</td>\n",
       "      <td>NaN</td>\n",
       "      <td>NaN</td>\n",
       "      <td>NaN</td>\n",
       "    </tr>\n",
       "    <tr>\n",
       "      <th>37</th>\n",
       "      <td>41.6</td>\n",
       "      <td>NaN</td>\n",
       "      <td>NaN</td>\n",
       "      <td>NaN</td>\n",
       "    </tr>\n",
       "    <tr>\n",
       "      <th>38</th>\n",
       "      <td>48.5</td>\n",
       "      <td>NaN</td>\n",
       "      <td>NaN</td>\n",
       "      <td>NaN</td>\n",
       "    </tr>\n",
       "    <tr>\n",
       "      <th>39</th>\n",
       "      <td>74.7</td>\n",
       "      <td>NaN</td>\n",
       "      <td>NaN</td>\n",
       "      <td>NaN</td>\n",
       "    </tr>\n",
       "    <tr>\n",
       "      <th>40</th>\n",
       "      <td>85.7</td>\n",
       "      <td>NaN</td>\n",
       "      <td>NaN</td>\n",
       "      <td>NaN</td>\n",
       "    </tr>\n",
       "    <tr>\n",
       "      <th>41</th>\n",
       "      <td>90.2</td>\n",
       "      <td>NaN</td>\n",
       "      <td>NaN</td>\n",
       "      <td>NaN</td>\n",
       "    </tr>\n",
       "    <tr>\n",
       "      <th>42</th>\n",
       "      <td>65.8</td>\n",
       "      <td>NaN</td>\n",
       "      <td>NaN</td>\n",
       "      <td>NaN</td>\n",
       "    </tr>\n",
       "    <tr>\n",
       "      <th>43</th>\n",
       "      <td>57.4</td>\n",
       "      <td>NaN</td>\n",
       "      <td>NaN</td>\n",
       "      <td>NaN</td>\n",
       "    </tr>\n",
       "    <tr>\n",
       "      <th>44</th>\n",
       "      <td>66.3</td>\n",
       "      <td>NaN</td>\n",
       "      <td>NaN</td>\n",
       "      <td>NaN</td>\n",
       "    </tr>\n",
       "    <tr>\n",
       "      <th>45</th>\n",
       "      <td>79.2</td>\n",
       "      <td>NaN</td>\n",
       "      <td>NaN</td>\n",
       "      <td>NaN</td>\n",
       "    </tr>\n",
       "    <tr>\n",
       "      <th>46</th>\n",
       "      <td>236.9</td>\n",
       "      <td>NaN</td>\n",
       "      <td>NaN</td>\n",
       "      <td>NaN</td>\n",
       "    </tr>\n",
       "    <tr>\n",
       "      <th>47</th>\n",
       "      <td>126.0</td>\n",
       "      <td>NaN</td>\n",
       "      <td>NaN</td>\n",
       "      <td>NaN</td>\n",
       "    </tr>\n",
       "    <tr>\n",
       "      <th>48</th>\n",
       "      <td>154.3</td>\n",
       "      <td>NaN</td>\n",
       "      <td>NaN</td>\n",
       "      <td>NaN</td>\n",
       "    </tr>\n",
       "    <tr>\n",
       "      <th>49</th>\n",
       "      <td>105.2</td>\n",
       "      <td>NaN</td>\n",
       "      <td>NaN</td>\n",
       "      <td>NaN</td>\n",
       "    </tr>\n",
       "    <tr>\n",
       "      <th>50</th>\n",
       "      <td>267.5</td>\n",
       "      <td>NaN</td>\n",
       "      <td>NaN</td>\n",
       "      <td>NaN</td>\n",
       "    </tr>\n",
       "    <tr>\n",
       "      <th>51</th>\n",
       "      <td>87.4</td>\n",
       "      <td>NaN</td>\n",
       "      <td>NaN</td>\n",
       "      <td>NaN</td>\n",
       "    </tr>\n",
       "  </tbody>\n",
       "</table>\n",
       "</div>"
      ],
      "text/plain": [
       "     Fine  Coarse        Carb  Carb-transect\n",
       "0   102.6     5.0  241.737618          100.0\n",
       "1    46.8     3.0  272.007768          100.0\n",
       "2   203.1     3.0   61.800935          100.0\n",
       "3   213.8    12.0  277.780261          100.0\n",
       "4    67.6     6.0  109.204209          100.0\n",
       "5    94.3     6.0  274.003550          100.0\n",
       "6    93.9    43.0  166.236957          100.0\n",
       "7    77.2    64.0  114.598337          100.0\n",
       "8    64.4    45.0  207.104250          100.0\n",
       "9    47.0    80.0   53.245563          100.0\n",
       "10   95.2    30.0  107.676165          200.0\n",
       "11   48.7    45.0  445.257612          200.0\n",
       "12   92.2    30.0  376.530621          200.0\n",
       "13   81.0    15.0  707.387180          200.0\n",
       "14   84.3   120.0  295.308612          200.0\n",
       "15  157.4   100.0  419.609655          200.0\n",
       "16  178.1     3.0  396.139622          200.0\n",
       "17  237.4     6.0  349.318953          200.0\n",
       "18  107.6     3.0  263.744441          200.0\n",
       "19  142.1   200.0  120.790854          200.0\n",
       "20  136.7   100.0  212.406574          200.0\n",
       "21   25.7   120.0  112.102858          200.0\n",
       "22   28.6    20.0  326.097474          200.0\n",
       "23   75.4    25.0  276.450954          200.0\n",
       "24   76.0    42.0  289.651475          200.0\n",
       "25   24.3    13.0         NaN            NaN\n",
       "26   40.2     NaN         NaN            NaN\n",
       "27   51.8     NaN         NaN            NaN\n",
       "28   66.8     NaN         NaN            NaN\n",
       "29   98.0     NaN         NaN            NaN\n",
       "30   33.3     NaN         NaN            NaN\n",
       "31   93.0     NaN         NaN            NaN\n",
       "32   80.8     NaN         NaN            NaN\n",
       "33  102.0     NaN         NaN            NaN\n",
       "34  118.0     NaN         NaN            NaN\n",
       "35   45.5     NaN         NaN            NaN\n",
       "36   99.8     NaN         NaN            NaN\n",
       "37   41.6     NaN         NaN            NaN\n",
       "38   48.5     NaN         NaN            NaN\n",
       "39   74.7     NaN         NaN            NaN\n",
       "40   85.7     NaN         NaN            NaN\n",
       "41   90.2     NaN         NaN            NaN\n",
       "42   65.8     NaN         NaN            NaN\n",
       "43   57.4     NaN         NaN            NaN\n",
       "44   66.3     NaN         NaN            NaN\n",
       "45   79.2     NaN         NaN            NaN\n",
       "46  236.9     NaN         NaN            NaN\n",
       "47  126.0     NaN         NaN            NaN\n",
       "48  154.3     NaN         NaN            NaN\n",
       "49  105.2     NaN         NaN            NaN\n",
       "50  267.5     NaN         NaN            NaN\n",
       "51   87.4     NaN         NaN            NaN"
      ]
     },
     "execution_count": 12,
     "metadata": {},
     "output_type": "execute_result"
    }
   ],
   "source": [
    "fractures"
   ]
  },
  {
   "cell_type": "code",
   "execution_count": null,
   "id": "3780f085-dfbd-4f82-b949-fdc8530f3a4f",
   "metadata": {},
   "outputs": [],
   "source": []
  },
  {
   "cell_type": "code",
   "execution_count": null,
   "id": "24135649-dfa9-4396-9c06-f2b1053e5e76",
   "metadata": {},
   "outputs": [],
   "source": []
  },
  {
   "cell_type": "code",
   "execution_count": 13,
   "id": "299a0c8b-4693-4021-8abe-e339d60e2680",
   "metadata": {},
   "outputs": [
    {
     "name": "stderr",
     "output_type": "stream",
     "text": [
      "/var/folders/f0/zv8p7y8d5kq6d7npbldbdh6w0000gn/T/ipykernel_32734/2408888765.py:17: FutureWarning: Series.__getitem__ treating keys as positions is deprecated. In a future version, integer keys will always be treated as labels (consistent with DataFrame behavior). To access a value by position, use `ser.iloc[pos]`\n",
      "  fractures_carb_set1_mean = fractures_carb_set1.mean()[0]\n",
      "/var/folders/f0/zv8p7y8d5kq6d7npbldbdh6w0000gn/T/ipykernel_32734/2408888765.py:20: FutureWarning: Series.__getitem__ treating keys as positions is deprecated. In a future version, integer keys will always be treated as labels (consistent with DataFrame behavior). To access a value by position, use `ser.iloc[pos]`\n",
      "  fractures_carb_set2_mean = fractures_carb_set2.mean()[0]\n"
     ]
    }
   ],
   "source": [
    "#FIRST VERSION: carbonate fractures are a little different because Nick only provided av erages.....\n",
    "\n",
    "#carb_1_transect_lengths = np.repeat(20, 11)\n",
    "#carb_1_frac_counts = np.repeat(11, 11)\n",
    "#carb_1_frac_spacings = carb_1_transect_lengths / carb_1_frac_counts\n",
    "\n",
    "\n",
    "#carb_2_transect_lengths = np.concatenate((np.repeat(23, 7), np.repeat(50, 15)))\n",
    "#carb_2_frac_counts = np.concatenate((np.repeat(7, 7), np.repeat(15, 15)))\n",
    "#carb_2_frac_spacings = carb_2_transect_lengths / carb_2_frac_counts\n",
    "\n",
    "#fractures_carb_mean_1 = np.average(carb_1_frac_spacings) * 100 #convert m to cm\n",
    "#fractures_carb_mean_2 = np.average(carb_2_frac_spacings) * 100 #convert m to cm\n",
    "\n",
    "#SECOND VERSION: Nick reports two sets of carb fractures from GIS\n",
    "fractures_carb_set1 = fractures[['Carb', 'Carb-transect']][fractures['Carb-transect'] == 100]\n",
    "fractures_carb_set1_mean = fractures_carb_set1.mean()[0]\n",
    "\n",
    "fractures_carb_set2 = fractures[['Carb', 'Carb-transect']][fractures['Carb-transect'] == 200]\n",
    "fractures_carb_set2_mean = fractures_carb_set2.mean()[0]"
   ]
  },
  {
   "cell_type": "code",
   "execution_count": 14,
   "id": "c9d5c721-ffee-4d60-aff3-07f4c8705cdb",
   "metadata": {},
   "outputs": [
    {
     "data": {
      "text/html": [
       "<div>\n",
       "<style scoped>\n",
       "    .dataframe tbody tr th:only-of-type {\n",
       "        vertical-align: middle;\n",
       "    }\n",
       "\n",
       "    .dataframe tbody tr th {\n",
       "        vertical-align: top;\n",
       "    }\n",
       "\n",
       "    .dataframe thead th {\n",
       "        text-align: right;\n",
       "    }\n",
       "</style>\n",
       "<table border=\"1\" class=\"dataframe\">\n",
       "  <thead>\n",
       "    <tr style=\"text-align: right;\">\n",
       "      <th></th>\n",
       "      <th>Carb</th>\n",
       "      <th>Carb-transect</th>\n",
       "    </tr>\n",
       "  </thead>\n",
       "  <tbody>\n",
       "    <tr>\n",
       "      <th>0</th>\n",
       "      <td>241.737618</td>\n",
       "      <td>100.0</td>\n",
       "    </tr>\n",
       "    <tr>\n",
       "      <th>1</th>\n",
       "      <td>272.007768</td>\n",
       "      <td>100.0</td>\n",
       "    </tr>\n",
       "    <tr>\n",
       "      <th>2</th>\n",
       "      <td>61.800935</td>\n",
       "      <td>100.0</td>\n",
       "    </tr>\n",
       "    <tr>\n",
       "      <th>3</th>\n",
       "      <td>277.780261</td>\n",
       "      <td>100.0</td>\n",
       "    </tr>\n",
       "    <tr>\n",
       "      <th>4</th>\n",
       "      <td>109.204209</td>\n",
       "      <td>100.0</td>\n",
       "    </tr>\n",
       "    <tr>\n",
       "      <th>5</th>\n",
       "      <td>274.003550</td>\n",
       "      <td>100.0</td>\n",
       "    </tr>\n",
       "    <tr>\n",
       "      <th>6</th>\n",
       "      <td>166.236957</td>\n",
       "      <td>100.0</td>\n",
       "    </tr>\n",
       "    <tr>\n",
       "      <th>7</th>\n",
       "      <td>114.598337</td>\n",
       "      <td>100.0</td>\n",
       "    </tr>\n",
       "    <tr>\n",
       "      <th>8</th>\n",
       "      <td>207.104250</td>\n",
       "      <td>100.0</td>\n",
       "    </tr>\n",
       "    <tr>\n",
       "      <th>9</th>\n",
       "      <td>53.245563</td>\n",
       "      <td>100.0</td>\n",
       "    </tr>\n",
       "  </tbody>\n",
       "</table>\n",
       "</div>"
      ],
      "text/plain": [
       "         Carb  Carb-transect\n",
       "0  241.737618          100.0\n",
       "1  272.007768          100.0\n",
       "2   61.800935          100.0\n",
       "3  277.780261          100.0\n",
       "4  109.204209          100.0\n",
       "5  274.003550          100.0\n",
       "6  166.236957          100.0\n",
       "7  114.598337          100.0\n",
       "8  207.104250          100.0\n",
       "9   53.245563          100.0"
      ]
     },
     "execution_count": 14,
     "metadata": {},
     "output_type": "execute_result"
    }
   ],
   "source": [
    "fractures_carb_set1"
   ]
  },
  {
   "cell_type": "code",
   "execution_count": null,
   "id": "84204c7b-2e60-49d6-9953-e85d20e2a988",
   "metadata": {},
   "outputs": [],
   "source": []
  },
  {
   "cell_type": "code",
   "execution_count": null,
   "id": "12567464-3f69-4f76-91a4-bf13914c9120",
   "metadata": {},
   "outputs": [],
   "source": []
  },
  {
   "cell_type": "code",
   "execution_count": null,
   "id": "67e91382-d00e-4a9f-9c92-4ca8ded37246",
   "metadata": {},
   "outputs": [],
   "source": []
  },
  {
   "cell_type": "code",
   "execution_count": null,
   "id": "746932ec-c615-4995-8b3f-434103fd0529",
   "metadata": {},
   "outputs": [],
   "source": []
  },
  {
   "cell_type": "code",
   "execution_count": null,
   "id": "232e62b3-8467-4d69-a25b-21760f7c6310",
   "metadata": {},
   "outputs": [],
   "source": []
  },
  {
   "cell_type": "code",
   "execution_count": 15,
   "id": "a2d0bde9-d265-4115-8ceb-93c5a3ce66ef",
   "metadata": {},
   "outputs": [
    {
     "name": "stderr",
     "output_type": "stream",
     "text": [
      "/var/folders/f0/zv8p7y8d5kq6d7npbldbdh6w0000gn/T/ipykernel_32734/3776106180.py:11: FutureWarning: Series.__getitem__ treating keys as positions is deprecated. In a future version, integer keys will always be treated as labels (consistent with DataFrame behavior). To access a value by position, use `ser.iloc[pos]`\n",
      "  beds_fine_stdev = beds.std()[0]\n",
      "/var/folders/f0/zv8p7y8d5kq6d7npbldbdh6w0000gn/T/ipykernel_32734/3776106180.py:12: FutureWarning: Series.__getitem__ treating keys as positions is deprecated. In a future version, integer keys will always be treated as labels (consistent with DataFrame behavior). To access a value by position, use `ser.iloc[pos]`\n",
      "  fractures_fine_stdev = fractures.std()[0]\n",
      "/var/folders/f0/zv8p7y8d5kq6d7npbldbdh6w0000gn/T/ipykernel_32734/3776106180.py:15: FutureWarning: Series.__getitem__ treating keys as positions is deprecated. In a future version, integer keys will always be treated as labels (consistent with DataFrame behavior). To access a value by position, use `ser.iloc[pos]`\n",
      "  beds_coarse_stdev = beds.std()[1]\n",
      "/var/folders/f0/zv8p7y8d5kq6d7npbldbdh6w0000gn/T/ipykernel_32734/3776106180.py:16: FutureWarning: Series.__getitem__ treating keys as positions is deprecated. In a future version, integer keys will always be treated as labels (consistent with DataFrame behavior). To access a value by position, use `ser.iloc[pos]`\n",
      "  fractures_coarse_stdev = fractures.std()[1]\n",
      "/var/folders/f0/zv8p7y8d5kq6d7npbldbdh6w0000gn/T/ipykernel_32734/3776106180.py:20: FutureWarning: Series.__getitem__ treating keys as positions is deprecated. In a future version, integer keys will always be treated as labels (consistent with DataFrame behavior). To access a value by position, use `ser.iloc[pos]`\n",
      "  beds_carb_stdev = beds.std()[2]\n",
      "/var/folders/f0/zv8p7y8d5kq6d7npbldbdh6w0000gn/T/ipykernel_32734/3776106180.py:21: FutureWarning: Series.__getitem__ treating keys as positions is deprecated. In a future version, integer keys will always be treated as labels (consistent with DataFrame behavior). To access a value by position, use `ser.iloc[pos]`\n",
      "  fractures_carb_1_stdev = fractures_carb_set1.std()[0]\n",
      "/var/folders/f0/zv8p7y8d5kq6d7npbldbdh6w0000gn/T/ipykernel_32734/3776106180.py:22: FutureWarning: Series.__getitem__ treating keys as positions is deprecated. In a future version, integer keys will always be treated as labels (consistent with DataFrame behavior). To access a value by position, use `ser.iloc[pos]`\n",
      "  fractures_carb_2_stdev = fractures_carb_set2.std()[0]\n"
     ]
    },
    {
     "data": {
      "image/png": "[encoded data removed]",
      "text/plain": [
       "<Figure size 600x470 with 1 Axes>"
      ]
     },
     "metadata": {},
     "output_type": "display_data"
    }
   ],
   "source": [
    "fig, ax = plt.subplots(figsize = (6, 4.7))\n",
    "size = 300\n",
    "ax.scatter(beds_fine_mean, fractures_fine_mean, s = size, marker = 's', facecolor = 'moccasin', edgecolor = 'k', zorder = 2, label = 'Fine sandstone')\n",
    "ax.scatter(beds_coarse_mean, fractures_coarse_mean, s = size, marker = 'o', facecolor = 'moccasin', edgecolor = 'k', zorder = 2, label = 'Coarse sandstone')\n",
    "ax.scatter(beds_carb_mean, fractures_carb_set1_mean, s = size, marker = '^', facecolor = 'lightblue', edgecolor = 'k', zorder = 2, label = 'Carbonate T (thalweg)')\n",
    "ax.scatter(beds_carb_mean, fractures_carb_set2_mean, s = size, marker = '^', facecolor = 'lightblue', edgecolor = 'k', zorder = 4, label = 'Carbonate B (bank)')\n",
    "#bed thickness error bars\n",
    "#beds_fine_lower_bound = np.array([beds_fine_mean - beds_fine_min])\n",
    "#beds_fine_upper_bound = np.array([beds_fine_max - beds_fine_mean])\n",
    "#beds_fine_bounds = np.array([beds_fine_lower_bound, beds_fine_upper_bound])\n",
    "beds_fine_stdev = beds.std()[0]\n",
    "fractures_fine_stdev = fractures.std()[0]\n",
    "ax.errorbar(beds_fine_mean, fractures_fine_mean, xerr = beds_fine_stdev, yerr = fractures_fine_stdev, color = 'k', zorder = 1, capsize = 4)\n",
    "\n",
    "beds_coarse_stdev = beds.std()[1]\n",
    "fractures_coarse_stdev = fractures.std()[1]\n",
    "ax.errorbar(beds_coarse_mean, fractures_coarse_mean, xerr = beds_coarse_stdev, yerr = fractures_coarse_stdev, color = 'k', zorder = 1, capsize = 4)\n",
    "\n",
    "\n",
    "beds_carb_stdev = beds.std()[2]\n",
    "fractures_carb_1_stdev = fractures_carb_set1.std()[0]\n",
    "fractures_carb_2_stdev = fractures_carb_set2.std()[0]\n",
    "#fractures_carb_lower_bound = np.array([fractures_carb_mean - beds_fine_min])\n",
    "#fractures_carb_upper_bound = np.array([beds_fine_max - beds_fine_mean])\n",
    "#fractures_carb_bounds = np.array([beds_fine_lower_bound, beds_fine_upper_bound])\n",
    "eb1 = ax.errorbar(beds_carb_mean, fractures_carb_set1_mean, xerr = beds_carb_stdev, yerr = fractures_carb_1_stdev, color = 'k', zorder = 1, capsize = 4)\n",
    "eb2 = ax.errorbar(beds_carb_mean, fractures_carb_set2_mean, xerr = beds_carb_stdev, yerr = fractures_carb_2_stdev, color = 'k', zorder = 3, capsize = 4, ecolor = 'gray')\n",
    "eb2[-1][0].set_linestyle(':')\n",
    "eb2[-1][1].set_linestyle(':')\n",
    "\n",
    "ax.set_xlabel('Bed thickness [cm]', fontsize = 16)\n",
    "ax.set_ylabel('Fracture spacing [cm]', fontsize = 16)\n",
    "\n",
    "ax.set_xlim(-5, 100)\n",
    "ax.set_ylim(-10, 500)\n",
    "ax.legend(loc = 'lower right', labelspacing = 1, edgecolor = 'k', borderpad = 1)\n",
    "\n",
    "ax.text(39.5, 148, 'T', fontsize = 14)\n",
    "ax.text(39.5, 285, 'B', fontsize = 14)\n",
    "\n",
    "plt.tight_layout()\n",
    "fig.savefig('beds_fractures_v2.pdf', dpi=1000, bbox_inches = 'tight')\n",
    "fig.savefig('beds_fractures_v2.png', dpi=1000, bbox_inches = 'tight')"
   ]
  },
  {
   "cell_type": "code",
   "execution_count": 16,
   "id": "e12a721a-c4c8-4d5c-a88a-15622c627b42",
   "metadata": {},
   "outputs": [
    {
     "data": {
      "text/plain": [
       "177.77194486000002"
      ]
     },
     "execution_count": 16,
     "metadata": {},
     "output_type": "execute_result"
    }
   ],
   "source": [
    "fractures_carb_set1_mean"
   ]
  },
  {
   "cell_type": "code",
   "execution_count": 17,
   "id": "d33f62d9-7108-4039-85bd-494ae2c24bb3",
   "metadata": {},
   "outputs": [
    {
     "data": {
      "text/plain": [
       "313.2315367133333"
      ]
     },
     "execution_count": 17,
     "metadata": {},
     "output_type": "execute_result"
    }
   ],
   "source": [
    "fractures_carb_set2_mean"
   ]
  },
  {
   "cell_type": "code",
   "execution_count": 18,
   "id": "2161f530-1624-4295-9a65-9e70ff369b33",
   "metadata": {},
   "outputs": [
    {
     "data": {
      "text/plain": [
       "96.48653846153844"
      ]
     },
     "execution_count": 18,
     "metadata": {},
     "output_type": "execute_result"
    }
   ],
   "source": [
    "fractures_fine_mean"
   ]
  },
  {
   "cell_type": "code",
   "execution_count": 19,
   "id": "1c8e35de-2e0b-4759-be1d-f87fd40f9228",
   "metadata": {},
   "outputs": [
    {
     "data": {
      "text/plain": [
       "43.80769230769231"
      ]
     },
     "execution_count": 19,
     "metadata": {},
     "output_type": "execute_result"
    }
   ],
   "source": [
    "fractures_coarse_mean"
   ]
  },
  {
   "cell_type": "code",
   "execution_count": 20,
   "id": "ab830aa2-ae66-4466-b6db-d39af92dbbf2",
   "metadata": {},
   "outputs": [],
   "source": [
    "from scipy.stats import kruskal, mannwhitneyu\n",
    "\n",
    "kw = kruskal(beds['Fine'], beds['Coarse'], beds['Carb'])"
   ]
  },
  {
   "cell_type": "code",
   "execution_count": 21,
   "id": "f3a98b24-f870-439e-9e07-add8e8bd4ef3",
   "metadata": {},
   "outputs": [],
   "source": [
    "beds_fine = beds['Fine'][0:17]"
   ]
  },
  {
   "cell_type": "code",
   "execution_count": 22,
   "id": "457ad6d1-48af-4284-ae39-d7aa10dfaca0",
   "metadata": {},
   "outputs": [
    {
     "data": {
      "text/plain": [
       "0      2.0\n",
       "1      3.0\n",
       "2      5.0\n",
       "3      4.0\n",
       "4      3.0\n",
       "5     14.0\n",
       "6     17.0\n",
       "7     20.0\n",
       "8      8.0\n",
       "9     12.0\n",
       "10    20.0\n",
       "11    21.0\n",
       "12     4.0\n",
       "13     3.0\n",
       "14     3.0\n",
       "15    11.0\n",
       "16    12.0\n",
       "Name: Fine, dtype: float64"
      ]
     },
     "execution_count": 22,
     "metadata": {},
     "output_type": "execute_result"
    }
   ],
   "source": [
    "beds_fine"
   ]
  },
  {
   "cell_type": "code",
   "execution_count": 23,
   "id": "95897a61-d317-4f6d-99d2-62d966c7a836",
   "metadata": {},
   "outputs": [],
   "source": [
    "beds_coarse = beds['Coarse'][0:18]"
   ]
  },
  {
   "cell_type": "code",
   "execution_count": 24,
   "id": "71b1ead0-4656-4703-b631-7d9f979821ab",
   "metadata": {},
   "outputs": [
    {
     "data": {
      "text/plain": [
       "0      1.0\n",
       "1      2.0\n",
       "2      1.0\n",
       "3      1.0\n",
       "4     10.0\n",
       "5      2.0\n",
       "6      1.0\n",
       "7      4.0\n",
       "8      6.0\n",
       "9      6.0\n",
       "10     2.0\n",
       "11     4.0\n",
       "12     4.0\n",
       "13     3.0\n",
       "14     3.0\n",
       "15     2.0\n",
       "16     6.0\n",
       "17     3.0\n",
       "Name: Coarse, dtype: float64"
      ]
     },
     "execution_count": 24,
     "metadata": {},
     "output_type": "execute_result"
    }
   ],
   "source": [
    "beds_coarse"
   ]
  },
  {
   "cell_type": "code",
   "execution_count": 25,
   "id": "d5ed863b-beb4-46cd-83f9-d4290a8a552a",
   "metadata": {},
   "outputs": [],
   "source": [
    "beds_carb = beds['Carb']"
   ]
  },
  {
   "cell_type": "markdown",
   "id": "989bfa97-8f43-4eb8-964b-5080368cd857",
   "metadata": {},
   "source": [
    "STATS TESTING FOR BED THICKNESS"
   ]
  },
  {
   "cell_type": "code",
   "execution_count": 27,
   "id": "630f2948-bfff-4a75-a626-e0ef4578830a",
   "metadata": {},
   "outputs": [
    {
     "name": "stdout",
     "output_type": "stream",
     "text": [
      "KruskalResult(statistic=26.704207890226357, pvalue=1.5894795138332533e-06)\n",
      "          1             2             3\n",
      "1  1.000000  5.278700e-02  3.622483e-02\n",
      "2  0.052787  1.000000e+00  7.820872e-07\n",
      "3  0.036225  7.820872e-07  1.000000e+00\n"
     ]
    }
   ],
   "source": [
    "kw = kruskal(beds_fine, beds_coarse, beds_carb)\n",
    "\n",
    "print(kw)\n",
    "\n",
    "import scikit_posthocs\n",
    "print(scikit_posthocs.posthoc_dunn([beds_fine, beds_coarse, beds_carb], p_adjust = 'bonferroni'))\n"
   ]
  },
  {
   "cell_type": "code",
   "execution_count": 84,
   "id": "55ba4a64-8a9e-4385-84ef-b475d6f821b8",
   "metadata": {},
   "outputs": [],
   "source": [
    "beds_all_ss = pd.concat([beds['Fine'][0:17], \n",
    "                         beds['Coarse'][0:18]])"
   ]
  },
  {
   "cell_type": "code",
   "execution_count": 86,
   "id": "280bd292-6804-4813-8ff5-ed1ee081870d",
   "metadata": {},
   "outputs": [
    {
     "data": {
      "text/plain": [
       "0      2.0\n",
       "1      3.0\n",
       "2      5.0\n",
       "3      4.0\n",
       "4      3.0\n",
       "5     14.0\n",
       "6     17.0\n",
       "7     20.0\n",
       "8      8.0\n",
       "9     12.0\n",
       "10    20.0\n",
       "11    21.0\n",
       "12     4.0\n",
       "13     3.0\n",
       "14     3.0\n",
       "15    11.0\n",
       "16    12.0\n",
       "0      1.0\n",
       "1      2.0\n",
       "2      1.0\n",
       "3      1.0\n",
       "4     10.0\n",
       "5      2.0\n",
       "6      1.0\n",
       "7      4.0\n",
       "8      6.0\n",
       "9      6.0\n",
       "10     2.0\n",
       "11     4.0\n",
       "12     4.0\n",
       "13     3.0\n",
       "14     3.0\n",
       "15     2.0\n",
       "16     6.0\n",
       "17     3.0\n",
       "dtype: float64"
      ]
     },
     "execution_count": 86,
     "metadata": {},
     "output_type": "execute_result"
    }
   ],
   "source": [
    "beds_all_ss"
   ]
  },
  {
   "cell_type": "code",
   "execution_count": 92,
   "id": "43913cf8-29d2-4d89-96f0-663429aa5095",
   "metadata": {},
   "outputs": [
    {
     "data": {
      "text/plain": [
       "MannwhitneyuResult(statistic=132.5, pvalue=4.594694055888951e-06)"
      ]
     },
     "execution_count": 92,
     "metadata": {},
     "output_type": "execute_result"
    }
   ],
   "source": [
    "mwu = mannwhitneyu(beds_all_ss, beds_carb)\n",
    "mwu"
   ]
  },
  {
   "cell_type": "markdown",
   "id": "e34876ae-b41f-46bb-8a82-80b2cae952a6",
   "metadata": {},
   "source": [
    "STATS TESTING FOR FRACTURE SPACING"
   ]
  },
  {
   "cell_type": "code",
   "execution_count": 30,
   "id": "3310bdb9-a2b1-494e-8865-4ab8017e40a8",
   "metadata": {},
   "outputs": [],
   "source": [
    "fractures_carb_set1_stats = fractures_carb_set1['Carb']\n",
    "fractures_carb_set2_stats = fractures_carb_set2['Carb']\n",
    "\n",
    "fractures_fine_stats = fractures['Fine']\n",
    "fractures_coarse_stats = fractures['Coarse'][0:26]"
   ]
  },
  {
   "cell_type": "code",
   "execution_count": 98,
   "id": "24761a75-8a75-4866-8a78-8548f10d101c",
   "metadata": {},
   "outputs": [
    {
     "data": {
      "text/plain": [
       "MannwhitneyuResult(statistic=182.0, pvalue=1.0844635427877391e-09)"
      ]
     },
     "execution_count": 98,
     "metadata": {},
     "output_type": "execute_result"
    }
   ],
   "source": [
    "fracs_all_ss = pd.concat([fractures_fine_stats, fractures_coarse_stats])\n",
    "fracs_all_carb = pd.concat([fractures_carb_set1_stats, fractures_carb_set2_stats])\n",
    "mwu2 = mannwhitneyu(fracs_all_ss, fracs_all_carb)\n",
    "mwu2"
   ]
  },
  {
   "cell_type": "code",
   "execution_count": null,
   "id": "717b6dc3-d05a-4af4-8cf4-b480265f3441",
   "metadata": {},
   "outputs": [],
   "source": []
  },
  {
   "cell_type": "code",
   "execution_count": 96,
   "id": "af856af1-10b9-474c-b946-9dca1e76fda0",
   "metadata": {},
   "outputs": [
    {
     "data": {
      "text/plain": [
       "0     102.6\n",
       "1      46.8\n",
       "2     203.1\n",
       "3     213.8\n",
       "4      67.6\n",
       "      ...  \n",
       "21    120.0\n",
       "22     20.0\n",
       "23     25.0\n",
       "24     42.0\n",
       "25     13.0\n",
       "Length: 78, dtype: float64"
      ]
     },
     "execution_count": 96,
     "metadata": {},
     "output_type": "execute_result"
    }
   ],
   "source": [
    "fracs_all_ss"
   ]
  },
  {
   "cell_type": "code",
   "execution_count": 90,
   "id": "6cfeb329-4397-4efc-bd65-a9424206341c",
   "metadata": {},
   "outputs": [
    {
     "data": {
      "text/plain": [
       "MannwhitneyuResult(statistic=132.5, pvalue=4.594694055888951e-06)"
      ]
     },
     "execution_count": 90,
     "metadata": {},
     "output_type": "execute_result"
    }
   ],
   "source": [
    "mwu"
   ]
  },
  {
   "cell_type": "code",
   "execution_count": 31,
   "id": "098fb801-8633-4a95-98de-748f77dd5cfa",
   "metadata": {},
   "outputs": [],
   "source": [
    "kw2 = kruskal(fractures_fine_stats, fractures_coarse_stats, fractures_carb_set1_stats, fractures_carb_set2_stats)"
   ]
  },
  {
   "cell_type": "code",
   "execution_count": 32,
   "id": "2a7628b8-2e30-4148-a2bb-77f28aa8679b",
   "metadata": {},
   "outputs": [
    {
     "data": {
      "text/plain": [
       "KruskalResult(statistic=51.95110509911206, pvalue=3.067813805178922e-11)"
      ]
     },
     "execution_count": 32,
     "metadata": {},
     "output_type": "execute_result"
    }
   ],
   "source": [
    "kw2"
   ]
  },
  {
   "cell_type": "code",
   "execution_count": 33,
   "id": "4f002210-e38b-441f-a56b-0e4edae2669a",
   "metadata": {},
   "outputs": [
    {
     "name": "stdout",
     "output_type": "stream",
     "text": [
      "          1             2         3             4\n",
      "1  1.000000  2.375467e-03  0.171147  2.093813e-05\n",
      "2  0.002375  1.000000e+00  0.000094  5.524146e-11\n",
      "3  0.171147  9.400269e-05  1.000000  8.356051e-01\n",
      "4  0.000021  5.524146e-11  0.835605  1.000000e+00\n"
     ]
    }
   ],
   "source": [
    "print(scikit_posthocs.posthoc_dunn([fractures_fine_stats, fractures_coarse_stats, fractures_carb_set1_stats, fractures_carb_set2_stats], p_adjust = 'bonferroni'))"
   ]
  },
  {
   "cell_type": "markdown",
   "id": "68bc2e2a-a174-42db-aa2e-5bb5b56b05b8",
   "metadata": {},
   "source": [
    "NOW TRY THE SAME BUT GROUPING THE CARBONATES"
   ]
  },
  {
   "cell_type": "code",
   "execution_count": 35,
   "id": "f2e16034-9294-4a2b-ab12-bb91546ff3bd",
   "metadata": {},
   "outputs": [],
   "source": [
    "fractures_carb_all_stats = pd.concat([fractures_carb_set1_stats, fractures_carb_set2_stats])"
   ]
  },
  {
   "cell_type": "code",
   "execution_count": 36,
   "id": "3af05b9e-336a-4ed3-bbf2-39ddcc6b2a41",
   "metadata": {},
   "outputs": [
    {
     "data": {
      "text/plain": [
       "0     241.737618\n",
       "1     272.007768\n",
       "2      61.800935\n",
       "3     277.780261\n",
       "4     109.204209\n",
       "5     274.003550\n",
       "6     166.236957\n",
       "7     114.598337\n",
       "8     207.104250\n",
       "9      53.245563\n",
       "10    107.676165\n",
       "11    445.257612\n",
       "12    376.530621\n",
       "13    707.387180\n",
       "14    295.308612\n",
       "15    419.609655\n",
       "16    396.139622\n",
       "17    349.318953\n",
       "18    263.744441\n",
       "19    120.790854\n",
       "20    212.406574\n",
       "21    112.102858\n",
       "22    326.097474\n",
       "23    276.450954\n",
       "24    289.651475\n",
       "Name: Carb, dtype: float64"
      ]
     },
     "execution_count": 36,
     "metadata": {},
     "output_type": "execute_result"
    }
   ],
   "source": [
    "fractures_carb_all_stats"
   ]
  },
  {
   "cell_type": "code",
   "execution_count": 37,
   "id": "baedc0be-376e-41d5-a528-e35e2dc140f4",
   "metadata": {},
   "outputs": [
    {
     "data": {
      "text/plain": [
       "KruskalResult(statistic=49.76507124697627, pvalue=1.5618958930906056e-11)"
      ]
     },
     "execution_count": 37,
     "metadata": {},
     "output_type": "execute_result"
    }
   ],
   "source": [
    "kw2 = kruskal(fractures_fine_stats, fractures_coarse_stats, fractures_carb_all_stats)\n",
    "kw2"
   ]
  },
  {
   "cell_type": "code",
   "execution_count": 38,
   "id": "05e5c79c-f014-422f-9c1e-7c4c08b59109",
   "metadata": {},
   "outputs": [
    {
     "name": "stdout",
     "output_type": "stream",
     "text": [
      "          1             2             3\n",
      "1  1.000000  1.187733e-03  1.296663e-05\n",
      "2  0.001188  1.000000e+00  6.173283e-12\n",
      "3  0.000013  6.173283e-12  1.000000e+00\n"
     ]
    }
   ],
   "source": [
    "print(scikit_posthocs.posthoc_dunn([fractures_fine_stats, fractures_coarse_stats, fractures_carb_all_stats], p_adjust = 'bonferroni'))"
   ]
  },
  {
   "cell_type": "code",
   "execution_count": null,
   "id": "4d3a18d7-0ef5-4a8d-a0f4-cdea734a49e4",
   "metadata": {},
   "outputs": [],
   "source": []
  }
 ],
 "metadata": {
  "kernelspec": {
   "display_name": "Python 3 (ipykernel)",
   "language": "python",
   "name": "python3"
  },
  "language_info": {
   "codemirror_mode": {
    "name": "ipython",
    "version": 3
   },
   "file_extension": ".py",
   "mimetype": "text/x-python",
   "name": "python",
   "nbconvert_exporter": "python",
   "pygments_lexer": "ipython3",
   "version": "3.11.9"
  }
 },
 "nbformat": 4,
 "nbformat_minor": 5
}
